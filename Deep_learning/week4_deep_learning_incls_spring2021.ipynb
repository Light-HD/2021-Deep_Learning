{
  "nbformat": 4,
  "nbformat_minor": 0,
  "metadata": {
    "colab": {
      "name": "KAU_deep_learning_2021.ipynb",
      "provenance": [],
      "collapsed_sections": []
    },
    "kernelspec": {
      "name": "python3",
      "display_name": "Python 3"
    }
  },
  "cells": [
    {
      "cell_type": "markdown",
      "metadata": {
        "id": "0JDlHhtYxv7f"
      },
      "source": [
        "# **KAU Deep Learning (Spring 2021)**\n",
        "### Python Review (In-class activity for Week 4) -- Python 101\n",
        "----\n"
      ]
    },
    {
      "cell_type": "markdown",
      "metadata": {
        "id": "CIBS-LtiCcY8"
      },
      "source": [
        "### First, let's check Python version!"
      ]
    },
    {
      "cell_type": "code",
      "metadata": {
        "id": "HZUgoIFLx3I8",
        "colab": {
          "base_uri": "https://localhost:8080/"
        },
        "outputId": "e61307d2-a152-4922-e333-7f648b52e780"
      },
      "source": [
        "!python --version"
      ],
      "execution_count": null,
      "outputs": [
        {
          "output_type": "stream",
          "text": [
            "Python 3.7.10\n"
          ],
          "name": "stdout"
        }
      ]
    },
    {
      "cell_type": "markdown",
      "metadata": {
        "id": "sSv-DWiuE-O2"
      },
      "source": [
        "### Hello, Deep Learning!"
      ]
    },
    {
      "cell_type": "code",
      "metadata": {
        "id": "XOEprdr3yCKC",
        "colab": {
          "base_uri": "https://localhost:8080/"
        },
        "outputId": "eeac5c1d-28ca-4155-ee33-81d2fda2c671"
      },
      "source": [
        "#print (\"Hello, Deep Learning\")\n",
        "print ('Hello, Deep Learning')"
      ],
      "execution_count": null,
      "outputs": [
        {
          "output_type": "stream",
          "text": [
            "Hello, Deep Learning\n"
          ],
          "name": "stdout"
        }
      ]
    },
    {
      "cell_type": "markdown",
      "metadata": {
        "id": "omvDAw7pyTaI"
      },
      "source": [
        "## Python basic variable types\n",
        "### 1. Numbers\n",
        "#### int: integer, e.g., 1, 2, 5, 100\n",
        "#### float: real number, e.g. 1. 23, 3.14"
      ]
    },
    {
      "cell_type": "code",
      "metadata": {
        "id": "sM-O3JFMyZdL",
        "colab": {
          "base_uri": "https://localhost:8080/"
        },
        "outputId": "b83d4c3b-4f8b-4206-efbd-684676889770"
      },
      "source": [
        "'''\n",
        "Python is a dynamically-typed language!\n",
        "So, we do not use somethinhg like >>> int x = 3 >> float x = 3;\n",
        "Instead, we use >>> x = 3\n",
        "'''\n",
        "x = 3 # assign the variable x as 3\n",
        "type(x)"
      ],
      "execution_count": null,
      "outputs": [
        {
          "output_type": "execute_result",
          "data": {
            "text/plain": [
              "int"
            ]
          },
          "metadata": {
            "tags": []
          },
          "execution_count": 4
        }
      ]
    },
    {
      "cell_type": "code",
      "metadata": {
        "id": "lRcbrSOuyePV",
        "colab": {
          "base_uri": "https://localhost:8080/"
        },
        "outputId": "1a232048-04c0-4736-9c1e-31850b284178"
      },
      "source": [
        "x = 3\n",
        "print (x) # 3 \n",
        "print (x + 1) # 4\n",
        "print (x - 1) # 2 \n",
        "x += 1 # x = x + 1\n",
        "# x = x + 1 \n",
        "# x = 4\n",
        "print (\"--------\")\n",
        "print (x) \n",
        "print (x * 2)\n",
        "print (x ** 2)\n",
        "\n",
        "y = 3.14\n",
        "print (type(y)) # float\n",
        "\n",
        "y = 5 \n",
        "print (type(y)) # int"
      ],
      "execution_count": null,
      "outputs": [
        {
          "output_type": "stream",
          "text": [
            "3\n",
            "4\n",
            "2\n",
            "--------\n",
            "4\n",
            "8\n",
            "16\n",
            "<class 'float'>\n",
            "<class 'int'>\n"
          ],
          "name": "stdout"
        }
      ]
    },
    {
      "cell_type": "markdown",
      "metadata": {
        "id": "d24exa5IzQRv"
      },
      "source": [
        "### 2. Booleans\n",
        "#### True, False"
      ]
    },
    {
      "cell_type": "code",
      "metadata": {
        "id": "VUEybtLGzTDG",
        "colab": {
          "base_uri": "https://localhost:8080/"
        },
        "outputId": "10a0daa6-eecb-4301-bb99-8a601ff5a368"
      },
      "source": [
        "t = True\n",
        "f = False\n",
        "print (type(t))\n",
        "print(\"=\"*30)\n",
        "\n",
        "# and logical operation\n",
        "print (not f) # True\n",
        "print (not t) # False"
      ],
      "execution_count": null,
      "outputs": [
        {
          "output_type": "stream",
          "text": [
            "<class 'bool'>\n",
            "==============================\n",
            "True\n",
            "False\n"
          ],
          "name": "stdout"
        }
      ]
    },
    {
      "cell_type": "markdown",
      "metadata": {
        "id": "5UKS0yuPzyvT"
      },
      "source": [
        "### 3.String"
      ]
    },
    {
      "cell_type": "code",
      "metadata": {
        "id": "29mMh2rFz1rz",
        "colab": {
          "base_uri": "https://localhost:8080/"
        },
        "outputId": "ebca66b7-0d9b-4800-ed93-4c6f3fd54b1f"
      },
      "source": [
        "# string type\n",
        "hello = 'hello'\n",
        "world = \"world\"\n",
        "print(type(hello)) # class <str>\n",
        "print (hello)\n",
        "\n",
        "# we can access string character using index in Python!\n",
        "print (hello[1]) # e\n",
        "print (hello[0:2]) # he [0:2] => idx 0, idx 1\n",
        "print (hello[:2]) # he\n",
        "print (hello[2:]) # llo idx 2, 3, 4\n",
        "\n",
        "# get length of the string\n",
        "print (len(hello)) # 5\n",
        "\n",
        "# string string concatenation\n",
        "hw = hello + ' ' + world # hello world\n",
        "#hw = hello + world # helloworld \n",
        "\n",
        "# print string with the value of variables together!\n",
        "# %s: str\n",
        "# %d: int, number\n",
        "hw12 = 'option1: %s    %s %d' %(hello, world, 31) # use old school method\n",
        "print(hw12)\n",
        "\n",
        "# this method can be used only >= phthon 3.6\n",
        "hw23 = f'option2: {hello}    {world} {31}' # use the latest method\n",
        "print(hw23)\n",
        "\n",
        "hw45 = 'option3: {}    {} {}'.format(hello, world, 31) \n",
        "print(hw45)\n",
        "\n",
        "# check out some  build-in method in the string class\n",
        "h2 = 'hello'\n",
        "print('used =>capitalize():' + h2.capitalize()) # Hello\n",
        "print('used =>upper():' + h2.upper()) #HELLO\n",
        "print('deeplearning'.upper()) #DEEPLEARNING\n",
        "\n",
        "# replace method\n",
        "# h2 = 'hello'\n",
        "print(h2.replace('l', '(ell)'))"
      ],
      "execution_count": null,
      "outputs": [
        {
          "output_type": "stream",
          "text": [
            "<class 'str'>\n",
            "hello\n",
            "e\n",
            "he\n",
            "he\n",
            "llo\n",
            "5\n",
            "option1: hello    world 31\n",
            "option2: hello    world 31\n",
            "option3: hello    world 31\n",
            "used =>capitalize():Hello\n",
            "used =>upper():HELLO\n",
            "DEEPLEARNING\n",
            "he(ell)(ell)o\n"
          ],
          "name": "stdout"
        }
      ]
    },
    {
      "cell_type": "markdown",
      "metadata": {
        "id": "f1pmzU6y1Of6"
      },
      "source": [
        "### Python Containers: Lists, Dictionaries, Sets, and Tuples\n",
        "#### Lists"
      ]
    },
    {
      "cell_type": "code",
      "metadata": {
        "id": "e0gcii7p1UZ2",
        "colab": {
          "base_uri": "https://localhost:8080/"
        },
        "outputId": "eae9326d-07d9-4600-a6fd-472b43a3cf4f"
      },
      "source": [
        "# Lists []\n",
        "# e.g., a = [] # empty list\n",
        "#[1,3,4]\n",
        "#['hello', 'world']\n",
        "#[1, 2, 4, 'world', 3.14]\n",
        "\n",
        "# accessing using index of the list\n",
        "xs = [3,1,4]\n",
        "print(xs, xs[2]) #[3,1,4] 4\n",
        "\n",
        "# return the last element of the list\n",
        "print(xs[-1]) # 4\n",
        "\n",
        "# list is mutable -- elements in the list can be changed to the other variables\n",
        "# Also, elements in the lists can have different variable types\n",
        "xs[2] = 'foo'\n",
        "print(xs) # [3, 1, 'foo']\n",
        "\n",
        "# append method\n",
        "xs.append('bar') # adding 'bar' at the end of the list\n",
        "print(xs)\n",
        "\n",
        "# pop\n",
        "x = xs.pop() # get the last element from the list and remove it!\n",
        "print(x)\n",
        "\n",
        "# check out the remain elements in the list\n",
        "print(xs)"
      ],
      "execution_count": null,
      "outputs": [
        {
          "output_type": "stream",
          "text": [
            "[3, 1, 4] 4\n",
            "4\n",
            "[3, 1, 'foo']\n",
            "[3, 1, 'foo', 'bar']\n",
            "bar\n",
            "[3, 1, 'foo']\n"
          ],
          "name": "stdout"
        }
      ]
    },
    {
      "cell_type": "code",
      "metadata": {
        "id": "A7Zcldtk16_u",
        "colab": {
          "base_uri": "https://localhost:8080/"
        },
        "outputId": "396992fe-1049-4788-9213-b28ec83b64cb"
      },
      "source": [
        "# creat list using range function\n",
        "nums = list(range(5)) # [0,1,2,3,4] \n",
        "print(nums)\n",
        "\n",
        "# slicing the list\n",
        "print(nums[:3]) # [0,1,2]"
      ],
      "execution_count": null,
      "outputs": [
        {
          "output_type": "stream",
          "text": [
            "[0, 1, 2, 3, 4]\n",
            "[0, 1, 2]\n"
          ],
          "name": "stdout"
        }
      ]
    },
    {
      "cell_type": "code",
      "metadata": {
        "id": "IxETIMa42C4b",
        "colab": {
          "base_uri": "https://localhost:8080/"
        },
        "outputId": "fd3d1c40-9e36-444c-8b81-f551dbe05068"
      },
      "source": [
        "animals = ['cat', 'dog', 'monkey']\n",
        "\n",
        "# Loop using list\n",
        "for animal in animals:\n",
        "  print(animal)"
      ],
      "execution_count": null,
      "outputs": [
        {
          "output_type": "stream",
          "text": [
            "cat\n",
            "dog\n",
            "monkey\n"
          ],
          "name": "stdout"
        }
      ]
    },
    {
      "cell_type": "code",
      "metadata": {
        "id": "ktB6ba5Z2qXQ",
        "colab": {
          "base_uri": "https://localhost:8080/"
        },
        "outputId": "f16ef564-d9d0-4477-de7f-df828f5c216a"
      },
      "source": [
        "animals = ['cat', 'dog', 'monkey']\n",
        "\n",
        "# print out index with the element together!\n",
        "for idx, animal in enumerate(animals):\n",
        "    print('#%d: %s' % (idx + 1, animal))"
      ],
      "execution_count": null,
      "outputs": [
        {
          "output_type": "stream",
          "text": [
            "#1: cat\n",
            "#2: dog\n",
            "#3: monkey\n"
          ],
          "name": "stdout"
        }
      ]
    },
    {
      "cell_type": "code",
      "metadata": {
        "id": "5jn6mA3a3DD3",
        "colab": {
          "base_uri": "https://localhost:8080/"
        },
        "outputId": "3b15e734-115b-4103-cc9c-56463d45a506"
      },
      "source": [
        "nums = [0, 1, 2, 3, 4]\n",
        "squares = [] #empty list\n",
        "\n",
        "for x in nums:\n",
        "    print(x)\n",
        "    squares.append(x ** 2) # get exponential of each of the original element in the list\n",
        "\n",
        "print(squares)"
      ],
      "execution_count": null,
      "outputs": [
        {
          "output_type": "stream",
          "text": [
            "0\n",
            "1\n",
            "2\n",
            "3\n",
            "4\n",
            "[0, 1, 4, 9, 16]\n"
          ],
          "name": "stdout"
        }
      ]
    },
    {
      "cell_type": "code",
      "metadata": {
        "id": "3GvE_lDD3UxN",
        "colab": {
          "base_uri": "https://localhost:8080/"
        },
        "outputId": "db4bbba2-5358-439e-b11c-2030c9465ced"
      },
      "source": [
        "nums = [0, 1, 2, 3, 4]\n",
        "even_squares = [x ** 2 for x in nums if x % 2 == 0] # pythonic way..\n",
        "print(even_squares)  # Prints \"[0, 4, 16]\""
      ],
      "execution_count": null,
      "outputs": [
        {
          "output_type": "stream",
          "text": [
            "[0, 4, 16]\n"
          ],
          "name": "stdout"
        }
      ]
    },
    {
      "cell_type": "markdown",
      "metadata": {
        "id": "QEawiHZc3qWo"
      },
      "source": [
        "#### Dictionary: (key, value) "
      ]
    },
    {
      "cell_type": "code",
      "metadata": {
        "id": "l44TiNjv3vSp",
        "colab": {
          "base_uri": "https://localhost:8080/"
        },
        "outputId": "4e83c5df-6908-4229-e40e-9c2ae23871b7"
      },
      "source": [
        "d = {'cat': 'cute', 'dog': 'lovely'} # you can creat a dictionary using {}\n",
        "print(type(d)) # <class dict>\n",
        "\n",
        "a = d['cat']\n",
        "print(a) # printing out the value of the 'cat' => cute\n",
        "print('='*30)\n",
        "\n",
        "# check the specific key in the dictionary\n",
        "print('dog' in d) # True\n",
        "print('kau' in d) # False\n",
        "print('='*30)\n",
        "\n",
        "# Add a new (key,value) to the dict.\n",
        "d['fish'] = 'wet'\n",
        "print(d)\n"
      ],
      "execution_count": null,
      "outputs": [
        {
          "output_type": "stream",
          "text": [
            "<class 'dict'>\n",
            "cute\n",
            "==============================\n",
            "True\n",
            "False\n",
            "==============================\n",
            "{'cat': 'cute', 'dog': 'lovely', 'fish': 'wet'}\n"
          ],
          "name": "stdout"
        }
      ]
    },
    {
      "cell_type": "code",
      "metadata": {
        "id": "ibW2KeKj4G6h",
        "colab": {
          "base_uri": "https://localhost:8080/"
        },
        "outputId": "fc483f12-9729-4b78-cddc-81ccd2732fe3"
      },
      "source": [
        "# another dictionarly example\n",
        "d = {'person': 2, 'cat': 4, 'spider': 8}\n",
        "for animal in d:\n",
        "  legs = d[animal] # each animals' value (# of legs)\n",
        "  print('A {} has {} legs'.format(animal, legs))"
      ],
      "execution_count": null,
      "outputs": [
        {
          "output_type": "stream",
          "text": [
            "A person has 2 legs\n",
            "A cat has 4 legs\n",
            "A spider has 8 legs\n"
          ],
          "name": "stdout"
        }
      ]
    },
    {
      "cell_type": "code",
      "metadata": {
        "id": "VuYHwzgi4kiQ",
        "colab": {
          "base_uri": "https://localhost:8080/"
        },
        "outputId": "b471b26d-bf72-4df4-acab-63fa06884980"
      },
      "source": [
        "nums = [0, 1, 2, 3, 4]\n",
        "even_num_to_square = {x: x ** 2 for x in nums if x % 2 == 0} # pythonic way..\n",
        "\n",
        "print(even_num_to_square) "
      ],
      "execution_count": null,
      "outputs": [
        {
          "output_type": "stream",
          "text": [
            "{0: 0, 2: 4, 4: 16}\n"
          ],
          "name": "stdout"
        }
      ]
    },
    {
      "cell_type": "markdown",
      "metadata": {
        "id": "I6tJA9-443L0"
      },
      "source": [
        "#### Sets\n"
      ]
    },
    {
      "cell_type": "code",
      "metadata": {
        "id": "xOoHU11U44JY",
        "colab": {
          "base_uri": "https://localhost:8080/"
        },
        "outputId": "a45f6367-a625-4443-dd5c-3c36611345db"
      },
      "source": [
        "animals = {'cat', 'dog'} # set is similar as dictionarly, but does not have a value \n",
        "print('cat' in animals)   # Check if an element is in a set; prints \"True\"\n",
        "print('fish' in animals)  # prints \"False\"\n",
        "print('='*30)\n",
        "\n",
        "animals.add('fish') \n",
        "print (animals)\n",
        "print(len(animals)) \n",
        "print('='*30)\n",
        "\n",
        "animals.remove('cat') \n",
        "print (animals)"
      ],
      "execution_count": null,
      "outputs": [
        {
          "output_type": "stream",
          "text": [
            "True\n",
            "False\n",
            "==============================\n",
            "{'dog', 'fish', 'cat'}\n",
            "3\n",
            "==============================\n",
            "{'dog', 'fish'}\n"
          ],
          "name": "stdout"
        }
      ]
    },
    {
      "cell_type": "markdown",
      "metadata": {
        "id": "4DIYfDLT5eyv"
      },
      "source": [
        "#### Tuples\n"
      ]
    },
    {
      "cell_type": "code",
      "metadata": {
        "id": "P5mQ6RnJ5hVI",
        "colab": {
          "base_uri": "https://localhost:8080/"
        },
        "outputId": "3649321e-f074-4cd9-e011-06522cdea0ae"
      },
      "source": [
        "t = (5,6) # creat a tuple using ()\n",
        "print(type(t))\n",
        "print('='*30)\n",
        "\n",
        "d = {(x, x + 1): x for x in range(10)} # key: (tuple), value: int\n",
        "print(d)\n",
        "print(type(d))\n",
        "print('='*30)\n",
        "\n",
        "print(d[t]) # t = (5,6) => d[5,6] = 5"
      ],
      "execution_count": null,
      "outputs": [
        {
          "output_type": "stream",
          "text": [
            "<class 'tuple'>\n",
            "==============================\n",
            "{(0, 1): 0, (1, 2): 1, (2, 3): 2, (3, 4): 3, (4, 5): 4, (5, 6): 5, (6, 7): 6, (7, 8): 7, (8, 9): 8, (9, 10): 9}\n",
            "<class 'dict'>\n",
            "==============================\n",
            "5\n"
          ],
          "name": "stdout"
        }
      ]
    },
    {
      "cell_type": "markdown",
      "metadata": {
        "id": "wTkjkCAq6Dne"
      },
      "source": [
        "### Functions"
      ]
    },
    {
      "cell_type": "code",
      "metadata": {
        "id": "lAHDrtnu5oE9",
        "colab": {
          "base_uri": "https://localhost:8080/"
        },
        "outputId": "9d7c218d-2a4f-47f3-c879-8017d1ec615b"
      },
      "source": [
        "# we defomed a new function!\n",
        "def sign(x):\n",
        "  if x > 0:\n",
        "    return 'positive'\n",
        "  elif x < 0:\n",
        "    return 'negative'\n",
        "  else:\n",
        "    return 'zero'\n",
        "\n",
        "# test the created function\n",
        "for x in [-1, 0, 1]:\n",
        "  print('{} has a sign {}'.format(x,sign(x)))"
      ],
      "execution_count": null,
      "outputs": [
        {
          "output_type": "stream",
          "text": [
            "-1 has a sign negative\n",
            "0 has a sign zero\n",
            "1 has a sign positive\n"
          ],
          "name": "stdout"
        }
      ]
    },
    {
      "cell_type": "markdown",
      "metadata": {
        "id": "2zCuQ10b6bxf"
      },
      "source": [
        "### Classes"
      ]
    },
    {
      "cell_type": "code",
      "metadata": {
        "id": "CKIPmRIk6fz4",
        "colab": {
          "base_uri": "https://localhost:8080/"
        },
        "outputId": "aeb48ba1-2b79-4a84-d522-96cdc0c9ef45"
      },
      "source": [
        "# creat a class\n",
        "class Greeter(object):\n",
        "\n",
        "    # Constructor\n",
        "    def __init__(self, name):\n",
        "        self.name = name  # Create an instance variable\n",
        "\n",
        "    # Instance method\n",
        "    def greet(self, loud=False):\n",
        "        if loud:\n",
        "            print('HELLO, {}!'.format(self.name.upper()))\n",
        "        else:\n",
        "            print('Hello, {}!'.format(self.name))\n",
        "\n",
        "# call the created class\n",
        "g = Greeter('kau') \n",
        "g.greet() # call the greet function in the Gretter class # Hello, kau!\n",
        "g.greet(loud=True) # HELLO, KAU!"
      ],
      "execution_count": null,
      "outputs": [
        {
          "output_type": "stream",
          "text": [
            "Hello, kau!\n",
            "HELLO, KAU!\n"
          ],
          "name": "stdout"
        }
      ]
    },
    {
      "cell_type": "markdown",
      "metadata": {
        "id": "6GAAaGaf7Pi8"
      },
      "source": [
        "### How to run terminal (shell) in Google Colab?\n"
      ]
    },
    {
      "cell_type": "code",
      "metadata": {
        "colab": {
          "base_uri": "https://localhost:8080/"
        },
        "id": "ZYajlBpQjYag",
        "outputId": "48e9366a-5bb8-4ea1-a07d-eb3c406f82ca"
      },
      "source": [
        "!pip install kora\n",
        "from kora import console\n",
        "console.start()  # and click link"
      ],
      "execution_count": null,
      "outputs": [
        {
          "output_type": "stream",
          "text": [
            "Collecting kora\n",
            "\u001b[?25l  Downloading https://files.pythonhosted.org/packages/5b/0d/3d9ab9ee747f0925b038e8350ce137276a7a4730a96a3516485dc1b87ba3/kora-0.9.19-py3-none-any.whl (57kB)\n",
            "\u001b[K     |████████████████████████████████| 61kB 4.6MB/s \n",
            "\u001b[?25hCollecting fastcore\n",
            "\u001b[?25l  Downloading https://files.pythonhosted.org/packages/0c/98/60404e2817cff113a6ae4023bc1772e23179408fdf7857fa410551758dfe/fastcore-1.3.19-py3-none-any.whl (53kB)\n",
            "\u001b[K     |████████████████████████████████| 61kB 5.3MB/s \n",
            "\u001b[?25hRequirement already satisfied: ipython in /usr/local/lib/python3.7/dist-packages (from kora) (5.5.0)\n",
            "Requirement already satisfied: packaging in /usr/local/lib/python3.7/dist-packages (from fastcore->kora) (20.9)\n",
            "Requirement already satisfied: pip in /usr/local/lib/python3.7/dist-packages (from fastcore->kora) (19.3.1)\n",
            "Requirement already satisfied: decorator in /usr/local/lib/python3.7/dist-packages (from ipython->kora) (4.4.2)\n",
            "Requirement already satisfied: setuptools>=18.5 in /usr/local/lib/python3.7/dist-packages (from ipython->kora) (54.1.2)\n",
            "Requirement already satisfied: prompt-toolkit<2.0.0,>=1.0.4 in /usr/local/lib/python3.7/dist-packages (from ipython->kora) (1.0.18)\n",
            "Requirement already satisfied: pexpect; sys_platform != \"win32\" in /usr/local/lib/python3.7/dist-packages (from ipython->kora) (4.8.0)\n",
            "Requirement already satisfied: simplegeneric>0.8 in /usr/local/lib/python3.7/dist-packages (from ipython->kora) (0.8.1)\n",
            "Requirement already satisfied: pygments in /usr/local/lib/python3.7/dist-packages (from ipython->kora) (2.6.1)\n",
            "Requirement already satisfied: pickleshare in /usr/local/lib/python3.7/dist-packages (from ipython->kora) (0.7.5)\n",
            "Requirement already satisfied: traitlets>=4.2 in /usr/local/lib/python3.7/dist-packages (from ipython->kora) (5.0.5)\n",
            "Requirement already satisfied: pyparsing>=2.0.2 in /usr/local/lib/python3.7/dist-packages (from packaging->fastcore->kora) (2.4.7)\n",
            "Requirement already satisfied: six>=1.9.0 in /usr/local/lib/python3.7/dist-packages (from prompt-toolkit<2.0.0,>=1.0.4->ipython->kora) (1.15.0)\n",
            "Requirement already satisfied: wcwidth in /usr/local/lib/python3.7/dist-packages (from prompt-toolkit<2.0.0,>=1.0.4->ipython->kora) (0.2.5)\n",
            "Requirement already satisfied: ptyprocess>=0.5 in /usr/local/lib/python3.7/dist-packages (from pexpect; sys_platform != \"win32\"->ipython->kora) (0.7.0)\n",
            "Requirement already satisfied: ipython-genutils in /usr/local/lib/python3.7/dist-packages (from traitlets>=4.2->ipython->kora) (0.2.0)\n",
            "Installing collected packages: fastcore, kora\n",
            "Successfully installed fastcore-1.3.19 kora-0.9.19\n",
            "Console URL: https://teleconsole.com/s/b943e7d2a7a5526524d62742d9126868cb4d144f\n"
          ],
          "name": "stdout"
        }
      ]
    },
    {
      "cell_type": "code",
      "metadata": {
        "id": "U1ZA4OXCwf8V"
      },
      "source": [
        ""
      ],
      "execution_count": null,
      "outputs": []
    }
  ]
}